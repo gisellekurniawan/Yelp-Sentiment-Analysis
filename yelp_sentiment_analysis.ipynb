{
  "cells": [
    {
      "cell_type": "code",
      "execution_count": null,
      "id": "98dd0fd7",
      "metadata": {
        "id": "98dd0fd7"
      },
      "outputs": [],
      "source": [
        "# packages\n",
        "import pandas as pd\n",
        "import numpy as np\n",
        "import os"
      ]
    },
    {
      "cell_type": "code",
      "execution_count": null,
      "id": "848d3962",
      "metadata": {
        "id": "848d3962"
      },
      "outputs": [],
      "source": [
        "Yelp = pd.read_csv(\"Data_Final\")"
      ]
    },
    {
      "cell_type": "code",
      "execution_count": null,
      "id": "d102d79e",
      "metadata": {
        "colab": {
          "base_uri": "https://localhost:8080/",
          "height": 388
        },
        "id": "d102d79e",
        "outputId": "6c191ca9-db52-4c84-de98-8f5fb5c08f3e"
      },
      "outputs": [
        {
          "output_type": "execute_result",
          "data": {
            "text/plain": [
              "([<matplotlib.axis.XTick at 0x7f62c0ce6190>,\n",
              "  <matplotlib.axis.XTick at 0x7f62c0ce6160>,\n",
              "  <matplotlib.axis.XTick at 0x7f62c1ff9f10>,\n",
              "  <matplotlib.axis.XTick at 0x7f62c0cbb910>,\n",
              "  <matplotlib.axis.XTick at 0x7f62c0cbbe20>],\n",
              " <a list of 5 Text major ticklabel objects>)"
            ]
          },
          "metadata": {},
          "execution_count": 15
        },
        {
          "output_type": "display_data",
          "data": {
            "text/plain": [
              "<Figure size 432x288 with 1 Axes>"
            ],
            "image/png": "[encoded data removed]"
          },
          "metadata": {
            "needs_background": "light"
          }
        }
      ],
      "source": [
        "# yelp score distribution\n",
        "plt.hist(\"Star\", data = Yelp)\n",
        "plt.title(\"Distribution of Star Ratings\")\n",
        "plt.xticks(np.arange(1, 6, 1))"
      ]
    },
    {
      "cell_type": "markdown",
      "id": "e111bf60",
      "metadata": {
        "id": "e111bf60"
      },
      "source": [
        "From the plot of the distribution of the star rating scores, we can see that the review scores are left skewed with the majority of the reviews scoring a 4 or 5."
      ]
    },
    {
      "cell_type": "code",
      "execution_count": null,
      "id": "ea1f3384",
      "metadata": {
        "colab": {
          "base_uri": "https://localhost:8080/",
          "height": 1000
        },
        "id": "ea1f3384",
        "outputId": "91551656-5e27-4a95-ea8c-0e38e54da8e2"
      },
      "outputs": [
        {
          "output_type": "error",
          "ename": "LookupError",
          "evalue": "ignored",
          "traceback": [
            "\u001b[0;31m---------------------------------------------------------------------------\u001b[0m",
            "\u001b[0;31mLookupError\u001b[0m                               Traceback (most recent call last)",
            "\u001b[0;32m/usr/local/lib/python3.8/dist-packages/nltk/corpus/util.py\u001b[0m in \u001b[0;36m__load\u001b[0;34m(self)\u001b[0m\n\u001b[1;32m     83\u001b[0m                 \u001b[0;32mtry\u001b[0m\u001b[0;34m:\u001b[0m\u001b[0;34m\u001b[0m\u001b[0;34m\u001b[0m\u001b[0m\n\u001b[0;32m---> 84\u001b[0;31m                     \u001b[0mroot\u001b[0m \u001b[0;34m=\u001b[0m \u001b[0mnltk\u001b[0m\u001b[0;34m.\u001b[0m\u001b[0mdata\u001b[0m\u001b[0;34m.\u001b[0m\u001b[0mfind\u001b[0m\u001b[0;34m(\u001b[0m\u001b[0;34mf\"{self.subdir}/{zip_name}\"\u001b[0m\u001b[0;34m)\u001b[0m\u001b[0;34m\u001b[0m\u001b[0;34m\u001b[0m\u001b[0m\n\u001b[0m\u001b[1;32m     85\u001b[0m                 \u001b[0;32mexcept\u001b[0m \u001b[0mLookupError\u001b[0m\u001b[0;34m:\u001b[0m\u001b[0;34m\u001b[0m\u001b[0;34m\u001b[0m\u001b[0m\n",
            "\u001b[0;32m/usr/local/lib/python3.8/dist-packages/nltk/data.py\u001b[0m in \u001b[0;36mfind\u001b[0;34m(resource_name, paths)\u001b[0m\n\u001b[1;32m    582\u001b[0m     \u001b[0mresource_not_found\u001b[0m \u001b[0;34m=\u001b[0m \u001b[0;34mf\"\\n{sep}\\n{msg}\\n{sep}\\n\"\u001b[0m\u001b[0;34m\u001b[0m\u001b[0;34m\u001b[0m\u001b[0m\n\u001b[0;32m--> 583\u001b[0;31m     \u001b[0;32mraise\u001b[0m \u001b[0mLookupError\u001b[0m\u001b[0;34m(\u001b[0m\u001b[0mresource_not_found\u001b[0m\u001b[0;34m)\u001b[0m\u001b[0;34m\u001b[0m\u001b[0;34m\u001b[0m\u001b[0m\n\u001b[0m\u001b[1;32m    584\u001b[0m \u001b[0;34m\u001b[0m\u001b[0m\n",
            "\u001b[0;31mLookupError\u001b[0m: \n**********************************************************************\n  Resource \u001b[93mstopwords\u001b[0m not found.\n  Please use the NLTK Downloader to obtain the resource:\n\n  \u001b[31m>>> import nltk\n  >>> nltk.download('stopwords')\n  \u001b[0m\n  For more information see: https://www.nltk.org/data.html\n\n  Attempted to load \u001b[93mcorpora/stopwords.zip/stopwords/\u001b[0m\n\n  Searched in:\n    - '/root/nltk_data'\n    - '/usr/nltk_data'\n    - '/usr/share/nltk_data'\n    - '/usr/lib/nltk_data'\n    - '/usr/share/nltk_data'\n    - '/usr/local/share/nltk_data'\n    - '/usr/lib/nltk_data'\n    - '/usr/local/lib/nltk_data'\n**********************************************************************\n",
            "\nDuring handling of the above exception, another exception occurred:\n",
            "\u001b[0;31mLookupError\u001b[0m                               Traceback (most recent call last)",
            "\u001b[0;32m<ipython-input-18-10fd855252c3>\u001b[0m in \u001b[0;36m<module>\u001b[0;34m\u001b[0m\n\u001b[1;32m      2\u001b[0m \u001b[0;32mfrom\u001b[0m \u001b[0mnltk\u001b[0m\u001b[0;34m.\u001b[0m\u001b[0mcorpus\u001b[0m \u001b[0;32mimport\u001b[0m \u001b[0mstopwords\u001b[0m\u001b[0;34m\u001b[0m\u001b[0;34m\u001b[0m\u001b[0m\n\u001b[1;32m      3\u001b[0m \u001b[0;32mfrom\u001b[0m \u001b[0mnltk\u001b[0m\u001b[0;34m.\u001b[0m\u001b[0mtokenize\u001b[0m \u001b[0;32mimport\u001b[0m \u001b[0msent_tokenize\u001b[0m\u001b[0;34m,\u001b[0m \u001b[0mword_tokenize\u001b[0m\u001b[0;34m\u001b[0m\u001b[0;34m\u001b[0m\u001b[0m\n\u001b[0;32m----> 4\u001b[0;31m \u001b[0mstop_words\u001b[0m \u001b[0;34m=\u001b[0m \u001b[0mstopwords\u001b[0m\u001b[0;34m.\u001b[0m\u001b[0mwords\u001b[0m\u001b[0;34m(\u001b[0m\u001b[0;34m\"english\"\u001b[0m\u001b[0;34m)\u001b[0m\u001b[0;34m\u001b[0m\u001b[0;34m\u001b[0m\u001b[0m\n\u001b[0m\u001b[1;32m      5\u001b[0m \u001b[0mprint\u001b[0m\u001b[0;34m(\u001b[0m\u001b[0mstop_words\u001b[0m\u001b[0;34m)\u001b[0m\u001b[0;34m\u001b[0m\u001b[0;34m\u001b[0m\u001b[0m\n",
            "\u001b[0;32m/usr/local/lib/python3.8/dist-packages/nltk/corpus/util.py\u001b[0m in \u001b[0;36m__getattr__\u001b[0;34m(self, attr)\u001b[0m\n\u001b[1;32m    119\u001b[0m             \u001b[0;32mraise\u001b[0m \u001b[0mAttributeError\u001b[0m\u001b[0;34m(\u001b[0m\u001b[0;34m\"LazyCorpusLoader object has no attribute '__bases__'\"\u001b[0m\u001b[0;34m)\u001b[0m\u001b[0;34m\u001b[0m\u001b[0;34m\u001b[0m\u001b[0m\n\u001b[1;32m    120\u001b[0m \u001b[0;34m\u001b[0m\u001b[0m\n\u001b[0;32m--> 121\u001b[0;31m         \u001b[0mself\u001b[0m\u001b[0;34m.\u001b[0m\u001b[0m__load\u001b[0m\u001b[0;34m(\u001b[0m\u001b[0;34m)\u001b[0m\u001b[0;34m\u001b[0m\u001b[0;34m\u001b[0m\u001b[0m\n\u001b[0m\u001b[1;32m    122\u001b[0m         \u001b[0;31m# This looks circular, but its not, since __load() changes our\u001b[0m\u001b[0;34m\u001b[0m\u001b[0;34m\u001b[0m\u001b[0;34m\u001b[0m\u001b[0m\n\u001b[1;32m    123\u001b[0m         \u001b[0;31m# __class__ to something new:\u001b[0m\u001b[0;34m\u001b[0m\u001b[0;34m\u001b[0m\u001b[0;34m\u001b[0m\u001b[0m\n",
            "\u001b[0;32m/usr/local/lib/python3.8/dist-packages/nltk/corpus/util.py\u001b[0m in \u001b[0;36m__load\u001b[0;34m(self)\u001b[0m\n\u001b[1;32m     84\u001b[0m                     \u001b[0mroot\u001b[0m \u001b[0;34m=\u001b[0m \u001b[0mnltk\u001b[0m\u001b[0;34m.\u001b[0m\u001b[0mdata\u001b[0m\u001b[0;34m.\u001b[0m\u001b[0mfind\u001b[0m\u001b[0;34m(\u001b[0m\u001b[0;34mf\"{self.subdir}/{zip_name}\"\u001b[0m\u001b[0;34m)\u001b[0m\u001b[0;34m\u001b[0m\u001b[0;34m\u001b[0m\u001b[0m\n\u001b[1;32m     85\u001b[0m                 \u001b[0;32mexcept\u001b[0m \u001b[0mLookupError\u001b[0m\u001b[0;34m:\u001b[0m\u001b[0;34m\u001b[0m\u001b[0;34m\u001b[0m\u001b[0m\n\u001b[0;32m---> 86\u001b[0;31m                     \u001b[0;32mraise\u001b[0m \u001b[0me\u001b[0m\u001b[0;34m\u001b[0m\u001b[0;34m\u001b[0m\u001b[0m\n\u001b[0m\u001b[1;32m     87\u001b[0m \u001b[0;34m\u001b[0m\u001b[0m\n\u001b[1;32m     88\u001b[0m         \u001b[0;31m# Load the corpus.\u001b[0m\u001b[0;34m\u001b[0m\u001b[0;34m\u001b[0m\u001b[0;34m\u001b[0m\u001b[0m\n",
            "\u001b[0;32m/usr/local/lib/python3.8/dist-packages/nltk/corpus/util.py\u001b[0m in \u001b[0;36m__load\u001b[0;34m(self)\u001b[0m\n\u001b[1;32m     79\u001b[0m         \u001b[0;32melse\u001b[0m\u001b[0;34m:\u001b[0m\u001b[0;34m\u001b[0m\u001b[0;34m\u001b[0m\u001b[0m\n\u001b[1;32m     80\u001b[0m             \u001b[0;32mtry\u001b[0m\u001b[0;34m:\u001b[0m\u001b[0;34m\u001b[0m\u001b[0;34m\u001b[0m\u001b[0m\n\u001b[0;32m---> 81\u001b[0;31m                 \u001b[0mroot\u001b[0m \u001b[0;34m=\u001b[0m \u001b[0mnltk\u001b[0m\u001b[0;34m.\u001b[0m\u001b[0mdata\u001b[0m\u001b[0;34m.\u001b[0m\u001b[0mfind\u001b[0m\u001b[0;34m(\u001b[0m\u001b[0;34mf\"{self.subdir}/{self.__name}\"\u001b[0m\u001b[0;34m)\u001b[0m\u001b[0;34m\u001b[0m\u001b[0;34m\u001b[0m\u001b[0m\n\u001b[0m\u001b[1;32m     82\u001b[0m             \u001b[0;32mexcept\u001b[0m \u001b[0mLookupError\u001b[0m \u001b[0;32mas\u001b[0m \u001b[0me\u001b[0m\u001b[0;34m:\u001b[0m\u001b[0;34m\u001b[0m\u001b[0;34m\u001b[0m\u001b[0m\n\u001b[1;32m     83\u001b[0m                 \u001b[0;32mtry\u001b[0m\u001b[0;34m:\u001b[0m\u001b[0;34m\u001b[0m\u001b[0;34m\u001b[0m\u001b[0m\n",
            "\u001b[0;32m/usr/local/lib/python3.8/dist-packages/nltk/data.py\u001b[0m in \u001b[0;36mfind\u001b[0;34m(resource_name, paths)\u001b[0m\n\u001b[1;32m    581\u001b[0m     \u001b[0msep\u001b[0m \u001b[0;34m=\u001b[0m \u001b[0;34m\"*\"\u001b[0m \u001b[0;34m*\u001b[0m \u001b[0;36m70\u001b[0m\u001b[0;34m\u001b[0m\u001b[0;34m\u001b[0m\u001b[0m\n\u001b[1;32m    582\u001b[0m     \u001b[0mresource_not_found\u001b[0m \u001b[0;34m=\u001b[0m \u001b[0;34mf\"\\n{sep}\\n{msg}\\n{sep}\\n\"\u001b[0m\u001b[0;34m\u001b[0m\u001b[0;34m\u001b[0m\u001b[0m\n\u001b[0;32m--> 583\u001b[0;31m     \u001b[0;32mraise\u001b[0m \u001b[0mLookupError\u001b[0m\u001b[0;34m(\u001b[0m\u001b[0mresource_not_found\u001b[0m\u001b[0;34m)\u001b[0m\u001b[0;34m\u001b[0m\u001b[0;34m\u001b[0m\u001b[0m\n\u001b[0m\u001b[1;32m    584\u001b[0m \u001b[0;34m\u001b[0m\u001b[0m\n\u001b[1;32m    585\u001b[0m \u001b[0;34m\u001b[0m\u001b[0m\n",
            "\u001b[0;31mLookupError\u001b[0m: \n**********************************************************************\n  Resource \u001b[93mstopwords\u001b[0m not found.\n  Please use the NLTK Downloader to obtain the resource:\n\n  \u001b[31m>>> import nltk\n  >>> nltk.download('stopwords')\n  \u001b[0m\n  For more information see: https://www.nltk.org/data.html\n\n  Attempted to load \u001b[93mcorpora/stopwords\u001b[0m\n\n  Searched in:\n    - '/root/nltk_data'\n    - '/usr/nltk_data'\n    - '/usr/share/nltk_data'\n    - '/usr/lib/nltk_data'\n    - '/usr/share/nltk_data'\n    - '/usr/local/share/nltk_data'\n    - '/usr/lib/nltk_data'\n    - '/usr/local/lib/nltk_data'\n**********************************************************************\n"
          ]
        }
      ],
      "source": [
        "# create stopword list\n",
        "from nltk.corpus import stopwords\n",
        "from nltk.tokenize import sent_tokenize, word_tokenize\n",
        "stop_words = stopwords.words(\"english\")\n",
        "print(stop_words)"
      ]
    },
    {
      "cell_type": "code",
      "execution_count": null,
      "id": "3790ecaa",
      "metadata": {
        "id": "3790ecaa"
      },
      "outputs": [],
      "source": [
        "with open(r\"C:\\Users\\Joyce\\Downloads\\Stats 101C\\Yelp Challenge_Final\\positive-words.txt\", \"r\") as f:\n",
        "    positive_words = [line.strip() for line in f]\n",
        "with open(r\"C:\\Users\\Joyce\\Downloads\\Stats 101C\\Yelp Challenge_Final\\negative-words.txt\", \"r\") as f:\n",
        "    negative_words = [line.strip() for line in f]"
      ]
    },
    {
      "cell_type": "code",
      "execution_count": null,
      "id": "bc5a00d6",
      "metadata": {
        "id": "bc5a00d6"
      },
      "outputs": [],
      "source": [
        "# remove stop words from review text\n",
        "def cleanData(df):\n",
        "    # lower case all letters\n",
        "    # remove stopwords\n",
        "    # replace all punctuation with white space characters and then split string on whitespace characters\n",
        "    # expand contractions\n",
        "    # for double negatives -> if not is before a positive word = add one to negative score\n",
        "    # if not is before a negative word = add one to the positive score\n",
        "    # us afinn() package to score each word\n",
        "    df[\"Review\"] = df[\"Review\"].str.lower()\n",
        "    df[\"review_no_stopwords\"] = df[\"Review\"].apply(lambda x: ' '.join([word for word in x.split() if word not in (stop_words)]))\n",
        "    df[\"review_no_stopwords\"] = df[\"review_no_stopwords\"].str.replace(\",\", \", \").str.replace(\".\", \". \")\n",
        "    df[\"review_no_stopwords\"] = df[\"review_no_stopwords\"].str.replace(\"[^\\w\\s]\", \"\") # remove punctuation\n",
        "    df[\"review_no_stopwords\"] = df[\"review_no_stopwords\"].str.split() # split by whitespace\n",
        "    return(df)\n",
        ""
      ]
    },
    {
      "cell_type": "code",
      "execution_count": null,
      "id": "2db1f1ff",
      "metadata": {
        "id": "2db1f1ff",
        "outputId": "f73b60f1-fd5a-4be1-966e-35648e0a1087"
      },
      "outputs": [
        {
          "name": "stderr",
          "output_type": "stream",
          "text": [
            "<ipython-input-10-5a18986bad1e>:12: FutureWarning: The default value of regex will change from True to False in a future version. In addition, single character regular expressions will*not* be treated as literal strings when regex=True.\n",
            "  df[\"review_no_stopwords\"] = df[\"review_no_stopwords\"].str.replace(\",\", \", \").str.replace(\".\", \". \")\n",
            "<ipython-input-10-5a18986bad1e>:13: FutureWarning: The default value of regex will change from True to False in a future version.\n",
            "  df[\"review_no_stopwords\"] = df[\"review_no_stopwords\"].str.replace(\"[^\\w\\s]\", \"\") # remove punctuation\n"
          ]
        },
        {
          "data": {
            "text/html": [
              "<div>\n",
              "<style scoped>\n",
              "    .dataframe tbody tr th:only-of-type {\n",
              "        vertical-align: middle;\n",
              "    }\n",
              "\n",
              "    .dataframe tbody tr th {\n",
              "        vertical-align: top;\n",
              "    }\n",
              "\n",
              "    .dataframe thead th {\n",
              "        text-align: right;\n",
              "    }\n",
              "</style>\n",
              "<table border=\"1\" class=\"dataframe\">\n",
              "  <thead>\n",
              "    <tr style=\"text-align: right;\">\n",
              "      <th></th>\n",
              "      <th>Unnamed: 0</th>\n",
              "      <th>User_id</th>\n",
              "      <th>Bus_id</th>\n",
              "      <th>Star</th>\n",
              "      <th>Useful</th>\n",
              "      <th>Cool</th>\n",
              "      <th>Funny</th>\n",
              "      <th>Review</th>\n",
              "      <th>State</th>\n",
              "      <th>City</th>\n",
              "      <th>Bus_Ave_Star</th>\n",
              "      <th>User_Review_count</th>\n",
              "      <th>User_Useful_count</th>\n",
              "      <th>User_Funny_count</th>\n",
              "      <th>User_Cool_count</th>\n",
              "      <th>Elite</th>\n",
              "      <th>User_Fans</th>\n",
              "      <th>Users_Ave_Star</th>\n",
              "      <th>review_no_stopwords</th>\n",
              "    </tr>\n",
              "  </thead>\n",
              "  <tbody>\n",
              "    <tr>\n",
              "      <th>0</th>\n",
              "      <td>0</td>\n",
              "      <td>4hBhtCSgoxkrFgHa4YAD-w</td>\n",
              "      <td>bbEXAEFr4RYHLlZ-HFssTA</td>\n",
              "      <td>5.0</td>\n",
              "      <td>0</td>\n",
              "      <td>0</td>\n",
              "      <td>0</td>\n",
              "      <td>great burgers,fries and salad!  burgers have a...</td>\n",
              "      <td>CA</td>\n",
              "      <td>Goleta</td>\n",
              "      <td>4.0</td>\n",
              "      <td>922</td>\n",
              "      <td>1687</td>\n",
              "      <td>694</td>\n",
              "      <td>1070</td>\n",
              "      <td>2015,2016,2017,2018,2019,20,20,2021</td>\n",
              "      <td>51</td>\n",
              "      <td>4.20</td>\n",
              "      <td>[great, burgers, fries, salad, burgers, hint, ...</td>\n",
              "    </tr>\n",
              "    <tr>\n",
              "      <th>1</th>\n",
              "      <td>1</td>\n",
              "      <td>JYYYKt6TdVA4ng9lLcXt_g</td>\n",
              "      <td>SZU9c8V2GuREDN5KgyHFJw</td>\n",
              "      <td>5.0</td>\n",
              "      <td>0</td>\n",
              "      <td>0</td>\n",
              "      <td>0</td>\n",
              "      <td>we were a bit weary about trying the shellfish...</td>\n",
              "      <td>CA</td>\n",
              "      <td>Santa Barbara</td>\n",
              "      <td>4.0</td>\n",
              "      <td>338</td>\n",
              "      <td>800</td>\n",
              "      <td>144</td>\n",
              "      <td>353</td>\n",
              "      <td>2012,2013,2014,2015,2016,2017,2018,2019,20,20,...</td>\n",
              "      <td>30</td>\n",
              "      <td>4.12</td>\n",
              "      <td>[bit, weary, trying, shellfish, company, wharf...</td>\n",
              "    </tr>\n",
              "    <tr>\n",
              "      <th>2</th>\n",
              "      <td>2</td>\n",
              "      <td>Uk3X2AypU8AqvcYEVf7s6Q</td>\n",
              "      <td>eL4lyE7LNoXEMvpcJ8WNVw</td>\n",
              "      <td>3.0</td>\n",
              "      <td>5</td>\n",
              "      <td>0</td>\n",
              "      <td>0</td>\n",
              "      <td>this was a tough one!   on the merits of the w...</td>\n",
              "      <td>CA</td>\n",
              "      <td>Santa Barbara</td>\n",
              "      <td>4.0</td>\n",
              "      <td>431</td>\n",
              "      <td>2126</td>\n",
              "      <td>1245</td>\n",
              "      <td>1476</td>\n",
              "      <td>2012,2013,2014,2015,2016,2017,2018,2019,20,20,...</td>\n",
              "      <td>76</td>\n",
              "      <td>4.05</td>\n",
              "      <td>[tough, one, merits, wine, fairly, average, un...</td>\n",
              "    </tr>\n",
              "    <tr>\n",
              "      <th>3</th>\n",
              "      <td>3</td>\n",
              "      <td>LcqNuhqaYt5ekKzaRirmIg</td>\n",
              "      <td>SZU9c8V2GuREDN5KgyHFJw</td>\n",
              "      <td>5.0</td>\n",
              "      <td>2</td>\n",
              "      <td>1</td>\n",
              "      <td>0</td>\n",
              "      <td>i love trying fresh seafood on piers, wharfs a...</td>\n",
              "      <td>CA</td>\n",
              "      <td>Santa Barbara</td>\n",
              "      <td>4.0</td>\n",
              "      <td>258</td>\n",
              "      <td>452</td>\n",
              "      <td>125</td>\n",
              "      <td>183</td>\n",
              "      <td>2015,2016,2017</td>\n",
              "      <td>37</td>\n",
              "      <td>3.99</td>\n",
              "      <td>[love, trying, fresh, seafood, piers, wharfs, ...</td>\n",
              "    </tr>\n",
              "    <tr>\n",
              "      <th>4</th>\n",
              "      <td>4</td>\n",
              "      <td>gasLVm0KRwrVhPGRcqATjw</td>\n",
              "      <td>CHh0ZFrQcsk4boOItr2Zuw</td>\n",
              "      <td>4.0</td>\n",
              "      <td>1</td>\n",
              "      <td>2</td>\n",
              "      <td>0</td>\n",
              "      <td>i stopped in because i was hungry for some sna...</td>\n",
              "      <td>CA</td>\n",
              "      <td>Carpinteria</td>\n",
              "      <td>3.0</td>\n",
              "      <td>1638</td>\n",
              "      <td>2658</td>\n",
              "      <td>933</td>\n",
              "      <td>2297</td>\n",
              "      <td>2014,2015,2016,2017,2018,2019,20,20,2021</td>\n",
              "      <td>105</td>\n",
              "      <td>3.79</td>\n",
              "      <td>[stopped, hungry, snacks, browsed, store, sinc...</td>\n",
              "    </tr>\n",
              "    <tr>\n",
              "      <th>...</th>\n",
              "      <td>...</td>\n",
              "      <td>...</td>\n",
              "      <td>...</td>\n",
              "      <td>...</td>\n",
              "      <td>...</td>\n",
              "      <td>...</td>\n",
              "      <td>...</td>\n",
              "      <td>...</td>\n",
              "      <td>...</td>\n",
              "      <td>...</td>\n",
              "      <td>...</td>\n",
              "      <td>...</td>\n",
              "      <td>...</td>\n",
              "      <td>...</td>\n",
              "      <td>...</td>\n",
              "      <td>...</td>\n",
              "      <td>...</td>\n",
              "      <td>...</td>\n",
              "      <td>...</td>\n",
              "    </tr>\n",
              "    <tr>\n",
              "      <th>53840</th>\n",
              "      <td>53840</td>\n",
              "      <td>wuxZSSVXwKzN3NPcdSljUA</td>\n",
              "      <td>q0DRuEAxE5i57xNSTrDP4Q</td>\n",
              "      <td>3.0</td>\n",
              "      <td>2</td>\n",
              "      <td>0</td>\n",
              "      <td>2</td>\n",
              "      <td>so let me begin by stating that the owner of n...</td>\n",
              "      <td>CA</td>\n",
              "      <td>Isla Vista</td>\n",
              "      <td>3.5</td>\n",
              "      <td>227</td>\n",
              "      <td>360</td>\n",
              "      <td>153</td>\n",
              "      <td>133</td>\n",
              "      <td>2014,2015,2016,2017,2018,2019,20,20,2021</td>\n",
              "      <td>11</td>\n",
              "      <td>3.41</td>\n",
              "      <td>[let, begin, stating, owner, naan, stop, compl...</td>\n",
              "    </tr>\n",
              "    <tr>\n",
              "      <th>53841</th>\n",
              "      <td>53841</td>\n",
              "      <td>ZDCWEctaQHfJQT1sH_rMmA</td>\n",
              "      <td>rZQqiElaeM7JO2rQAXHK2w</td>\n",
              "      <td>5.0</td>\n",
              "      <td>3</td>\n",
              "      <td>2</td>\n",
              "      <td>2</td>\n",
              "      <td>we've used jerry the plumber for water heater ...</td>\n",
              "      <td>CA</td>\n",
              "      <td>Santa Barbara</td>\n",
              "      <td>4.5</td>\n",
              "      <td>691</td>\n",
              "      <td>2353</td>\n",
              "      <td>427</td>\n",
              "      <td>1361</td>\n",
              "      <td>2016,2017,2018,2019,20,20,2021</td>\n",
              "      <td>23</td>\n",
              "      <td>4.74</td>\n",
              "      <td>[weve, used, jerry, plumber, water, heater, re...</td>\n",
              "    </tr>\n",
              "    <tr>\n",
              "      <th>53842</th>\n",
              "      <td>53842</td>\n",
              "      <td>ZDCWEctaQHfJQT1sH_rMmA</td>\n",
              "      <td>EA4v61tJCHg8xhk7bqn8Yw</td>\n",
              "      <td>5.0</td>\n",
              "      <td>2</td>\n",
              "      <td>2</td>\n",
              "      <td>0</td>\n",
              "      <td>wow, talk about some of the best deals i've ev...</td>\n",
              "      <td>CA</td>\n",
              "      <td>Santa Barbara</td>\n",
              "      <td>4.5</td>\n",
              "      <td>691</td>\n",
              "      <td>2353</td>\n",
              "      <td>427</td>\n",
              "      <td>1361</td>\n",
              "      <td>2016,2017,2018,2019,20,20,2021</td>\n",
              "      <td>23</td>\n",
              "      <td>4.74</td>\n",
              "      <td>[wow, talk, best, deals, ive, ever, seen, groc...</td>\n",
              "    </tr>\n",
              "    <tr>\n",
              "      <th>53843</th>\n",
              "      <td>53843</td>\n",
              "      <td>SSlW0LTQwER5obHjTW0ZIg</td>\n",
              "      <td>3tvi-OJ_-iK1ecjzSaH-oA</td>\n",
              "      <td>5.0</td>\n",
              "      <td>4</td>\n",
              "      <td>3</td>\n",
              "      <td>2</td>\n",
              "      <td>my husband and i decided to stop into hook and...</td>\n",
              "      <td>CA</td>\n",
              "      <td>Santa Barbara</td>\n",
              "      <td>4.5</td>\n",
              "      <td>163</td>\n",
              "      <td>391</td>\n",
              "      <td>155</td>\n",
              "      <td>286</td>\n",
              "      <td>2015,2016,2017,2018,2019,20,20,2021</td>\n",
              "      <td>20</td>\n",
              "      <td>4.36</td>\n",
              "      <td>[husband, decided, stop, hook, press, minimoon...</td>\n",
              "    </tr>\n",
              "    <tr>\n",
              "      <th>53844</th>\n",
              "      <td>53844</td>\n",
              "      <td>nxpp3uivlQw8x-vfTw0Gyg</td>\n",
              "      <td>ak-RiYgUZzM_90c8ONWFzw</td>\n",
              "      <td>5.0</td>\n",
              "      <td>2</td>\n",
              "      <td>2</td>\n",
              "      <td>1</td>\n",
              "      <td>we have asked burgundy blue to capture over 5 ...</td>\n",
              "      <td>CA</td>\n",
              "      <td>Santa Barbara</td>\n",
              "      <td>5.0</td>\n",
              "      <td>248</td>\n",
              "      <td>358</td>\n",
              "      <td>110</td>\n",
              "      <td>158</td>\n",
              "      <td>2018,2019,20,20,2021</td>\n",
              "      <td>11</td>\n",
              "      <td>3.94</td>\n",
              "      <td>[asked, burgundy, blue, capture, 5, important,...</td>\n",
              "    </tr>\n",
              "  </tbody>\n",
              "</table>\n",
              "<p>53845 rows × 19 columns</p>\n",
              "</div>"
            ],
            "text/plain": [
              "       Unnamed: 0                 User_id                  Bus_id  Star  \\\n",
              "0               0  4hBhtCSgoxkrFgHa4YAD-w  bbEXAEFr4RYHLlZ-HFssTA   5.0   \n",
              "1               1  JYYYKt6TdVA4ng9lLcXt_g  SZU9c8V2GuREDN5KgyHFJw   5.0   \n",
              "2               2  Uk3X2AypU8AqvcYEVf7s6Q  eL4lyE7LNoXEMvpcJ8WNVw   3.0   \n",
              "3               3  LcqNuhqaYt5ekKzaRirmIg  SZU9c8V2GuREDN5KgyHFJw   5.0   \n",
              "4               4  gasLVm0KRwrVhPGRcqATjw  CHh0ZFrQcsk4boOItr2Zuw   4.0   \n",
              "...           ...                     ...                     ...   ...   \n",
              "53840       53840  wuxZSSVXwKzN3NPcdSljUA  q0DRuEAxE5i57xNSTrDP4Q   3.0   \n",
              "53841       53841  ZDCWEctaQHfJQT1sH_rMmA  rZQqiElaeM7JO2rQAXHK2w   5.0   \n",
              "53842       53842  ZDCWEctaQHfJQT1sH_rMmA  EA4v61tJCHg8xhk7bqn8Yw   5.0   \n",
              "53843       53843  SSlW0LTQwER5obHjTW0ZIg  3tvi-OJ_-iK1ecjzSaH-oA   5.0   \n",
              "53844       53844  nxpp3uivlQw8x-vfTw0Gyg  ak-RiYgUZzM_90c8ONWFzw   5.0   \n",
              "\n",
              "       Useful  Cool  Funny                                             Review  \\\n",
              "0           0     0      0  great burgers,fries and salad!  burgers have a...   \n",
              "1           0     0      0  we were a bit weary about trying the shellfish...   \n",
              "2           5     0      0  this was a tough one!   on the merits of the w...   \n",
              "3           2     1      0  i love trying fresh seafood on piers, wharfs a...   \n",
              "4           1     2      0  i stopped in because i was hungry for some sna...   \n",
              "...       ...   ...    ...                                                ...   \n",
              "53840       2     0      2  so let me begin by stating that the owner of n...   \n",
              "53841       3     2      2  we've used jerry the plumber for water heater ...   \n",
              "53842       2     2      0  wow, talk about some of the best deals i've ev...   \n",
              "53843       4     3      2  my husband and i decided to stop into hook and...   \n",
              "53844       2     2      1  we have asked burgundy blue to capture over 5 ...   \n",
              "\n",
              "      State           City  Bus_Ave_Star  User_Review_count  \\\n",
              "0        CA         Goleta           4.0                922   \n",
              "1        CA  Santa Barbara           4.0                338   \n",
              "2        CA  Santa Barbara           4.0                431   \n",
              "3        CA  Santa Barbara           4.0                258   \n",
              "4        CA    Carpinteria           3.0               1638   \n",
              "...     ...            ...           ...                ...   \n",
              "53840    CA     Isla Vista           3.5                227   \n",
              "53841    CA  Santa Barbara           4.5                691   \n",
              "53842    CA  Santa Barbara           4.5                691   \n",
              "53843    CA  Santa Barbara           4.5                163   \n",
              "53844    CA  Santa Barbara           5.0                248   \n",
              "\n",
              "       User_Useful_count  User_Funny_count  User_Cool_count  \\\n",
              "0                   1687               694             1070   \n",
              "1                    800               144              353   \n",
              "2                   2126              1245             1476   \n",
              "3                    452               125              183   \n",
              "4                   2658               933             2297   \n",
              "...                  ...               ...              ...   \n",
              "53840                360               153              133   \n",
              "53841               2353               427             1361   \n",
              "53842               2353               427             1361   \n",
              "53843                391               155              286   \n",
              "53844                358               110              158   \n",
              "\n",
              "                                                   Elite  User_Fans  \\\n",
              "0                    2015,2016,2017,2018,2019,20,20,2021         51   \n",
              "1      2012,2013,2014,2015,2016,2017,2018,2019,20,20,...         30   \n",
              "2      2012,2013,2014,2015,2016,2017,2018,2019,20,20,...         76   \n",
              "3                                         2015,2016,2017         37   \n",
              "4               2014,2015,2016,2017,2018,2019,20,20,2021        105   \n",
              "...                                                  ...        ...   \n",
              "53840           2014,2015,2016,2017,2018,2019,20,20,2021         11   \n",
              "53841                     2016,2017,2018,2019,20,20,2021         23   \n",
              "53842                     2016,2017,2018,2019,20,20,2021         23   \n",
              "53843                2015,2016,2017,2018,2019,20,20,2021         20   \n",
              "53844                               2018,2019,20,20,2021         11   \n",
              "\n",
              "       Users_Ave_Star                                review_no_stopwords  \n",
              "0                4.20  [great, burgers, fries, salad, burgers, hint, ...  \n",
              "1                4.12  [bit, weary, trying, shellfish, company, wharf...  \n",
              "2                4.05  [tough, one, merits, wine, fairly, average, un...  \n",
              "3                3.99  [love, trying, fresh, seafood, piers, wharfs, ...  \n",
              "4                3.79  [stopped, hungry, snacks, browsed, store, sinc...  \n",
              "...               ...                                                ...  \n",
              "53840            3.41  [let, begin, stating, owner, naan, stop, compl...  \n",
              "53841            4.74  [weve, used, jerry, plumber, water, heater, re...  \n",
              "53842            4.74  [wow, talk, best, deals, ive, ever, seen, groc...  \n",
              "53843            4.36  [husband, decided, stop, hook, press, minimoon...  \n",
              "53844            3.94  [asked, burgundy, blue, capture, 5, important,...  \n",
              "\n",
              "[53845 rows x 19 columns]"
            ]
          },
          "execution_count": 11,
          "metadata": {},
          "output_type": "execute_result"
        }
      ],
      "source": [
        "data_cleaned = cleanData(data_cleaned)\n",
        "data_cleaned"
      ]
    },
    {
      "cell_type": "code",
      "execution_count": null,
      "id": "259e1083",
      "metadata": {
        "id": "259e1083",
        "outputId": "ef0e2b64-9121-4fc3-80d2-5698322b3e17"
      },
      "outputs": [
        {
          "name": "stdout",
          "output_type": "stream",
          "text": [
            "      positive_count negative_count total_count\n",
            "0                  4              0          21\n",
            "1                 19              4         176\n",
            "2                 19              4         133\n",
            "3                 25              8         208\n",
            "4                 10              0          53\n",
            "...              ...            ...         ...\n",
            "53840             15              6         136\n",
            "53841              8              2          72\n",
            "53842              9              2         100\n",
            "53843             10              5         128\n",
            "53844              5              1          38\n",
            "\n",
            "[53845 rows x 3 columns]\n"
          ]
        }
      ],
      "source": [
        "total_count = pd.DataFrame(columns = [\"positive_count\", \"negative_count\", \"total_count\"])\n",
        "data_cleaned.iloc[0:len(data_cleaned)][\"review_no_stopwords\"].apply(count_words)\n",
        "print(total_count)"
      ]
    },
    {
      "cell_type": "code",
      "execution_count": null,
      "id": "b7fbbadd",
      "metadata": {
        "id": "b7fbbadd"
      },
      "outputs": [],
      "source": [
        "# counts number of positive and negative words\n",
        "def count_words(col):\n",
        "    word_counts = pd.value_counts(np.array(col))\n",
        "    pos_count = 0\n",
        "    neg_count = 0\n",
        "    count = 0\n",
        "    i = 0\n",
        "    for word in word_counts.index:\n",
        "        if (word in positive_words):\n",
        "            pos_count = pos_count + word_counts.values[i]\n",
        "\n",
        "        elif (word in negative_words):\n",
        "            neg_count = neg_count + word_counts.values[i]\n",
        "\n",
        "        count = count + word_counts.values[i]\n",
        "        i += 1\n",
        "    global total_count\n",
        "    total_count = total_count.append({\"positive_count\" : pos_count, \"negative_count\" : neg_count, \"total_count\" : count}, ignore_index = True)"
      ]
    },
    {
      "cell_type": "code",
      "execution_count": null,
      "id": "ff7115e9",
      "metadata": {
        "id": "ff7115e9"
      },
      "outputs": [],
      "source": [
        "data_cleaned = pd.concat([data_cleaned, total_count], axis = 1)\n",
        "data_cleaned[\"positive_ratio\"] = data_cleaned.apply(lambda x: x[\"positive_count\"]/(x[\"negative_count\"] + x[\"positive_count\"]) if (x[\"negative_count\"] + x[\"positive_count\"]) != 0 else 0, axis=1)\n",
        "#data_cleaned[\"positive_ratio\"] = data_cleaned[\"positive_ratio\"].replace(np.inf, 0, inplace = True)\n",
        "data_cleaned[\"negative_ratio\"] = data_cleaned.apply(lambda x: x[\"negative_count\"]/(x[\"negative_count\"] + x[\"positive_count\"]) if (x[\"negative_count\"] + x[\"positive_count\"]) != 0 else 0, axis=1)\n",
        "#data_cleaned[\"negative_ratio\"] = data_cleaned[\"negative_ratio\"].replace(np.inf, 0, inplace = True)"
      ]
    },
    {
      "cell_type": "code",
      "execution_count": null,
      "id": "532cbaa6",
      "metadata": {
        "id": "532cbaa6",
        "outputId": "6bf16bb6-3d2b-4ce0-9128-caf544ac85ff"
      },
      "outputs": [
        {
          "data": {
            "text/html": [
              "<div>\n",
              "<style scoped>\n",
              "    .dataframe tbody tr th:only-of-type {\n",
              "        vertical-align: middle;\n",
              "    }\n",
              "\n",
              "    .dataframe tbody tr th {\n",
              "        vertical-align: top;\n",
              "    }\n",
              "\n",
              "    .dataframe thead th {\n",
              "        text-align: right;\n",
              "    }\n",
              "</style>\n",
              "<table border=\"1\" class=\"dataframe\">\n",
              "  <thead>\n",
              "    <tr style=\"text-align: right;\">\n",
              "      <th></th>\n",
              "      <th>positive_ratio</th>\n",
              "      <th>negative_ratio</th>\n",
              "    </tr>\n",
              "  </thead>\n",
              "  <tbody>\n",
              "    <tr>\n",
              "      <th>0</th>\n",
              "      <td>1.000000</td>\n",
              "      <td>0.000000</td>\n",
              "    </tr>\n",
              "    <tr>\n",
              "      <th>1</th>\n",
              "      <td>0.826087</td>\n",
              "      <td>0.173913</td>\n",
              "    </tr>\n",
              "    <tr>\n",
              "      <th>2</th>\n",
              "      <td>0.826087</td>\n",
              "      <td>0.173913</td>\n",
              "    </tr>\n",
              "    <tr>\n",
              "      <th>3</th>\n",
              "      <td>0.757576</td>\n",
              "      <td>0.242424</td>\n",
              "    </tr>\n",
              "    <tr>\n",
              "      <th>4</th>\n",
              "      <td>1.000000</td>\n",
              "      <td>0.000000</td>\n",
              "    </tr>\n",
              "    <tr>\n",
              "      <th>...</th>\n",
              "      <td>...</td>\n",
              "      <td>...</td>\n",
              "    </tr>\n",
              "    <tr>\n",
              "      <th>53840</th>\n",
              "      <td>0.714286</td>\n",
              "      <td>0.285714</td>\n",
              "    </tr>\n",
              "    <tr>\n",
              "      <th>53841</th>\n",
              "      <td>0.800000</td>\n",
              "      <td>0.200000</td>\n",
              "    </tr>\n",
              "    <tr>\n",
              "      <th>53842</th>\n",
              "      <td>0.818182</td>\n",
              "      <td>0.181818</td>\n",
              "    </tr>\n",
              "    <tr>\n",
              "      <th>53843</th>\n",
              "      <td>0.666667</td>\n",
              "      <td>0.333333</td>\n",
              "    </tr>\n",
              "    <tr>\n",
              "      <th>53844</th>\n",
              "      <td>0.833333</td>\n",
              "      <td>0.166667</td>\n",
              "    </tr>\n",
              "  </tbody>\n",
              "</table>\n",
              "<p>53845 rows × 2 columns</p>\n",
              "</div>"
            ],
            "text/plain": [
              "       positive_ratio  negative_ratio\n",
              "0            1.000000        0.000000\n",
              "1            0.826087        0.173913\n",
              "2            0.826087        0.173913\n",
              "3            0.757576        0.242424\n",
              "4            1.000000        0.000000\n",
              "...               ...             ...\n",
              "53840        0.714286        0.285714\n",
              "53841        0.800000        0.200000\n",
              "53842        0.818182        0.181818\n",
              "53843        0.666667        0.333333\n",
              "53844        0.833333        0.166667\n",
              "\n",
              "[53845 rows x 2 columns]"
            ]
          },
          "execution_count": 20,
          "metadata": {},
          "output_type": "execute_result"
        }
      ],
      "source": [
        "# make sure division by zero problem is fixed\n",
        "data_cleaned[[\"positive_ratio\", \"negative_ratio\"]]"
      ]
    },
    {
      "cell_type": "markdown",
      "id": "7d281601",
      "metadata": {
        "id": "7d281601"
      },
      "source": [
        "## Building Models"
      ]
    },
    {
      "cell_type": "markdown",
      "id": "b805e9f2",
      "metadata": {
        "id": "b805e9f2"
      },
      "source": [
        "### PCA"
      ]
    },
    {
      "cell_type": "code",
      "execution_count": null,
      "id": "67de5e64",
      "metadata": {
        "id": "67de5e64",
        "outputId": "d22d4b9b-7fbc-4ebc-8466-6e34ce1c964a"
      },
      "outputs": [
        {
          "data": {
            "text/plain": [
              "array([0.54074111, 0.37867503, 0.04302737])"
            ]
          },
          "execution_count": 102,
          "metadata": {},
          "output_type": "execute_result"
        }
      ],
      "source": [
        "from sklearn.decomposition import PCA\n",
        "pca = PCA(n_components = 0.95)\n",
        "pcs = pca.fit_transform(features)\n",
        "pca.explained_variance_ratio_"
      ]
    },
    {
      "cell_type": "markdown",
      "id": "b6c8480c",
      "metadata": {
        "id": "b6c8480c"
      },
      "source": [
        "### Visualizing Data"
      ]
    },
    {
      "cell_type": "code",
      "execution_count": null,
      "id": "8556bbec",
      "metadata": {
        "id": "8556bbec"
      },
      "outputs": [],
      "source": [
        "import seaborn as sns"
      ]
    },
    {
      "cell_type": "code",
      "execution_count": null,
      "id": "f107a0a3",
      "metadata": {
        "id": "f107a0a3",
        "outputId": "5cc4b713-88cf-49cf-b91c-f00f81b03378"
      },
      "outputs": [
        {
          "name": "stderr",
          "output_type": "stream",
          "text": [
            "C:\\Users\\Joyce\\anaconda3\\lib\\site-packages\\seaborn\\_decorators.py:36: FutureWarning: Pass the following variables as keyword args: x, y. From version 0.12, the only valid positional argument will be `data`, and passing other arguments without an explicit keyword will result in an error or misinterpretation.\n",
            "  warnings.warn(\n"
          ]
        },
        {
          "data": {
            "text/plain": [
              "<AxesSubplot:xlabel='positive_count', ylabel='negative_count'>"
            ]
          },
          "execution_count": 22,
          "metadata": {},
          "output_type": "execute_result"
        },
        {
          "data": {
            "image/png": "[encoded data removed]",
            "text/plain": [
              "<Figure size 432x288 with 1 Axes>"
            ]
          },
          "metadata": {
            "needs_background": "light"
          },
          "output_type": "display_data"
        }
      ],
      "source": [
        "sns.scatterplot(data_cleaned[\"positive_count\"], data_cleaned[\"negative_count\"])"
      ]
    },
    {
      "cell_type": "markdown",
      "id": "8fe07bdc",
      "metadata": {
        "id": "8fe07bdc"
      },
      "source": [
        "### Splitting the Data"
      ]
    },
    {
      "cell_type": "code",
      "execution_count": null,
      "id": "ab717928",
      "metadata": {
        "id": "ab717928"
      },
      "outputs": [],
      "source": [
        "from sklearn import metrics\n",
        "from sklearn.model_selection import train_test_split\n",
        "from sklearn.metrics import confusion_matrix\n",
        "from sklearn.metrics import accuracy_score"
      ]
    },
    {
      "cell_type": "code",
      "execution_count": null,
      "id": "8f034794",
      "metadata": {
        "id": "8f034794",
        "outputId": "21864f88-7b1f-4039-8646-a8565dea0db3"
      },
      "outputs": [
        {
          "data": {
            "text/html": [
              "<div>\n",
              "<style scoped>\n",
              "    .dataframe tbody tr th:only-of-type {\n",
              "        vertical-align: middle;\n",
              "    }\n",
              "\n",
              "    .dataframe tbody tr th {\n",
              "        vertical-align: top;\n",
              "    }\n",
              "\n",
              "    .dataframe thead th {\n",
              "        text-align: right;\n",
              "    }\n",
              "</style>\n",
              "<table border=\"1\" class=\"dataframe\">\n",
              "  <thead>\n",
              "    <tr style=\"text-align: right;\">\n",
              "      <th></th>\n",
              "      <th>positive_ratio</th>\n",
              "      <th>negative_ratio</th>\n",
              "    </tr>\n",
              "  </thead>\n",
              "  <tbody>\n",
              "    <tr>\n",
              "      <th>21965</th>\n",
              "      <td>0.888889</td>\n",
              "      <td>0.111111</td>\n",
              "    </tr>\n",
              "    <tr>\n",
              "      <th>37338</th>\n",
              "      <td>0.600000</td>\n",
              "      <td>0.400000</td>\n",
              "    </tr>\n",
              "    <tr>\n",
              "      <th>28846</th>\n",
              "      <td>0.866667</td>\n",
              "      <td>0.133333</td>\n",
              "    </tr>\n",
              "    <tr>\n",
              "      <th>21235</th>\n",
              "      <td>0.750000</td>\n",
              "      <td>0.250000</td>\n",
              "    </tr>\n",
              "    <tr>\n",
              "      <th>44669</th>\n",
              "      <td>0.000000</td>\n",
              "      <td>1.000000</td>\n",
              "    </tr>\n",
              "    <tr>\n",
              "      <th>...</th>\n",
              "      <td>...</td>\n",
              "      <td>...</td>\n",
              "    </tr>\n",
              "    <tr>\n",
              "      <th>15377</th>\n",
              "      <td>1.000000</td>\n",
              "      <td>0.000000</td>\n",
              "    </tr>\n",
              "    <tr>\n",
              "      <th>17730</th>\n",
              "      <td>0.928571</td>\n",
              "      <td>0.071429</td>\n",
              "    </tr>\n",
              "    <tr>\n",
              "      <th>28030</th>\n",
              "      <td>0.666667</td>\n",
              "      <td>0.333333</td>\n",
              "    </tr>\n",
              "    <tr>\n",
              "      <th>15725</th>\n",
              "      <td>0.833333</td>\n",
              "      <td>0.166667</td>\n",
              "    </tr>\n",
              "    <tr>\n",
              "      <th>52734</th>\n",
              "      <td>1.000000</td>\n",
              "      <td>0.000000</td>\n",
              "    </tr>\n",
              "  </tbody>\n",
              "</table>\n",
              "<p>43076 rows × 2 columns</p>\n",
              "</div>"
            ],
            "text/plain": [
              "       positive_ratio  negative_ratio\n",
              "21965        0.888889        0.111111\n",
              "37338        0.600000        0.400000\n",
              "28846        0.866667        0.133333\n",
              "21235        0.750000        0.250000\n",
              "44669        0.000000        1.000000\n",
              "...               ...             ...\n",
              "15377        1.000000        0.000000\n",
              "17730        0.928571        0.071429\n",
              "28030        0.666667        0.333333\n",
              "15725        0.833333        0.166667\n",
              "52734        1.000000        0.000000\n",
              "\n",
              "[43076 rows x 2 columns]"
            ]
          },
          "execution_count": 24,
          "metadata": {},
          "output_type": "execute_result"
        }
      ],
      "source": [
        "# split data\n",
        "#X = data_cleaned[[\"positive_count\", \"negative_count\", \"total_count\", \"positive_ratio\", \"negative_ratio\"]]\n",
        "X = data_cleaned[[\"positive_ratio\", \"negative_ratio\"]]\n",
        "y = data_cleaned[\"Star\"]\n",
        "X_train, X_test, y_train, y_test = train_test_split(X, y, train_size = 0.8, test_size = 0.2, random_state = 123)\n",
        "X_train"
      ]
    },
    {
      "cell_type": "markdown",
      "id": "1f6f72cd",
      "metadata": {
        "id": "1f6f72cd"
      },
      "source": [
        "### KNN Model"
      ]
    },
    {
      "cell_type": "code",
      "execution_count": null,
      "id": "7270a436",
      "metadata": {
        "id": "7270a436"
      },
      "outputs": [],
      "source": [
        "from sklearn.neighbors import KNeighborsClassifier"
      ]
    },
    {
      "cell_type": "code",
      "execution_count": null,
      "id": "9c5827e0",
      "metadata": {
        "id": "9c5827e0"
      },
      "outputs": [],
      "source": [
        "# KNN\n",
        "KNN_model = KNeighborsClassifier(n_neighbors = 5)\n",
        "KNN_model.fit(X_train, y_train)\n",
        "KNN_y_pred = KNN_model.predict(X_test)"
      ]
    },
    {
      "cell_type": "code",
      "execution_count": null,
      "id": "67e26eb4",
      "metadata": {
        "id": "67e26eb4",
        "outputId": "04d7eb9e-d97b-4257-aefe-f51fa6a70ceb"
      },
      "outputs": [
        {
          "data": {
            "text/plain": [
              "array([[  69,   86,  144,   39,   44],\n",
              "       [  66,  135,  229,  174,  116],\n",
              "       [  53,  216,  303,  556,  487],\n",
              "       [  31,  271,  366, 1375, 1727],\n",
              "       [  17,  213,  241, 1475, 2336]], dtype=int64)"
            ]
          },
          "execution_count": 27,
          "metadata": {},
          "output_type": "execute_result"
        }
      ],
      "source": [
        "# confusion matrix\n",
        "KNN_cm = confusion_matrix(y_test, KNN_y_pred)\n",
        "KNN_cm"
      ]
    },
    {
      "cell_type": "code",
      "execution_count": null,
      "id": "6ee99016",
      "metadata": {
        "id": "6ee99016",
        "outputId": "73b85c43-3352-4200-83a8-5e862ad51520"
      },
      "outputs": [
        {
          "data": {
            "text/plain": [
              "[Text(0.5, 1.0, 'KNN Accuracy Heatmap')]"
            ]
          },
          "execution_count": 46,
          "metadata": {},
          "output_type": "execute_result"
        },
        {
          "data": {
            "image/png": "[encoded data removed]",
            "text/plain": [
              "<Figure size 432x288 with 2 Axes>"
            ]
          },
          "metadata": {
            "needs_background": "light"
          },
          "output_type": "display_data"
        }
      ],
      "source": [
        "# heatmap\n",
        "x_labels = [1,2,3,4,5]\n",
        "y_labels = [1,2,3,4,5]\n",
        "sns.heatmap(KNN_cm, annot=True, xticklabels = x_labels, yticklabels = y_labels).set(title = \"KNN Accuracy Heatmap\")"
      ]
    },
    {
      "cell_type": "code",
      "execution_count": null,
      "id": "bde68639",
      "metadata": {
        "id": "bde68639",
        "outputId": "d33b97d4-3703-43aa-d0da-6350c02be26e"
      },
      "outputs": [
        {
          "name": "stdout",
          "output_type": "stream",
          "text": [
            "0.3916798217104652\n"
          ]
        }
      ],
      "source": [
        "# accuracy score\n",
        "print(accuracy_score(y_test,KNN_y_pred))"
      ]
    },
    {
      "cell_type": "markdown",
      "id": "59f7cf80",
      "metadata": {
        "id": "59f7cf80"
      },
      "source": [
        "### SVM Model"
      ]
    },
    {
      "cell_type": "code",
      "execution_count": null,
      "id": "551cb866",
      "metadata": {
        "id": "551cb866"
      },
      "outputs": [],
      "source": [
        "from sklearn.svm import SVC"
      ]
    },
    {
      "cell_type": "code",
      "execution_count": null,
      "id": "d929c815",
      "metadata": {
        "id": "d929c815"
      },
      "outputs": [],
      "source": [
        "## SVM\n",
        "svm = SVC(kernel = \"rbf\", random_state = 8)\n",
        "svm.fit(X_train, y_train)\n",
        "SVM_y_pred = svm.predict(X_test)"
      ]
    },
    {
      "cell_type": "code",
      "execution_count": null,
      "id": "fe86c372",
      "metadata": {
        "id": "fe86c372",
        "outputId": "d46f0bcb-5977-4f39-9ce6-c92de4f2952d"
      },
      "outputs": [
        {
          "name": "stdout",
          "output_type": "stream",
          "text": [
            "0.3916798217104652\n"
          ]
        }
      ],
      "source": [
        "# accuracy score\n",
        "print(accuracy_score(y_test, KNN_y_pred))"
      ]
    },
    {
      "cell_type": "code",
      "execution_count": null,
      "id": "66991d01",
      "metadata": {
        "id": "66991d01",
        "outputId": "93d4ca66-127e-440d-daa0-79eb4d5f2e30"
      },
      "outputs": [
        {
          "data": {
            "text/plain": [
              "array([[  89,   30,   83,  151,   29],\n",
              "       [  57,   22,   95,  418,  128],\n",
              "       [  46,   23,   74,  812,  660],\n",
              "       [  21,   23,   41, 1266, 2419],\n",
              "       [  13,   12,   36, 1013, 3208]], dtype=int64)"
            ]
          },
          "execution_count": 44,
          "metadata": {},
          "output_type": "execute_result"
        }
      ],
      "source": [
        "# confusion matrix\n",
        "SVM_cm = confusion_matrix(y_test, SVM_y_pred)\n",
        "SVM_cm"
      ]
    },
    {
      "cell_type": "code",
      "execution_count": null,
      "id": "0efba04d",
      "metadata": {
        "id": "0efba04d",
        "outputId": "e89f300e-3e70-4ddc-ea9e-f784c6336f4f"
      },
      "outputs": [
        {
          "data": {
            "text/plain": [
              "[Text(0.5, 1.0, 'SVM Accuracy Heatmap')]"
            ]
          },
          "execution_count": 47,
          "metadata": {},
          "output_type": "execute_result"
        },
        {
          "data": {
            "image/png": "[encoded data removed]",
            "text/plain": [
              "<Figure size 432x288 with 2 Axes>"
            ]
          },
          "metadata": {
            "needs_background": "light"
          },
          "output_type": "display_data"
        }
      ],
      "source": [
        "# heatmap\n",
        "x_labels = [1,2,3,4,5]\n",
        "y_labels = [1,2,3,4,5]\n",
        "sns.heatmap(SVM_cm, annot=True, xticklabels = x_labels, yticklabels = y_labels).set(title = \"SVM Accuracy Heatmap\")"
      ]
    },
    {
      "cell_type": "markdown",
      "id": "3aba56a3",
      "metadata": {
        "id": "3aba56a3"
      },
      "source": [
        "### Decision Tree"
      ]
    },
    {
      "cell_type": "code",
      "execution_count": null,
      "id": "640d892a",
      "metadata": {
        "id": "640d892a"
      },
      "outputs": [],
      "source": [
        "from sklearn.tree import DecisionTreeClassifier"
      ]
    },
    {
      "cell_type": "code",
      "execution_count": null,
      "id": "e597482b",
      "metadata": {
        "id": "e597482b"
      },
      "outputs": [],
      "source": [
        "# decision tree\n",
        "dtree = DecisionTreeClassifier(criterion = \"gini\")\n",
        "dtree.fit(X_train, y_train)\n",
        "dtree_y_pred = dtree.predict(X_test)"
      ]
    },
    {
      "cell_type": "code",
      "execution_count": null,
      "id": "a15b348d",
      "metadata": {
        "id": "a15b348d",
        "outputId": "8d345483-9950-4e5f-9208-9cd4546f5bca"
      },
      "outputs": [
        {
          "name": "stdout",
          "output_type": "stream",
          "text": [
            "0.4338378679543133\n"
          ]
        }
      ],
      "source": [
        "# accuracy score\n",
        "print(accuracy_score(y_test, dtree_y_pred))"
      ]
    },
    {
      "cell_type": "code",
      "execution_count": null,
      "id": "a4d8afda",
      "metadata": {
        "id": "a4d8afda",
        "outputId": "248fb3a2-176b-4f89-cf57-6ade35bf2942"
      },
      "outputs": [
        {
          "data": {
            "text/plain": [
              "array([[ 145,   45,   38,  122,   32],\n",
              "       [ 103,   64,   70,  360,  123],\n",
              "       [  89,   57,   77,  759,  633],\n",
              "       [  62,   26,   54, 1322, 2306],\n",
              "       [  40,   20,   60, 1098, 3064]], dtype=int64)"
            ]
          },
          "execution_count": 51,
          "metadata": {},
          "output_type": "execute_result"
        }
      ],
      "source": [
        "# confusion matrix\n",
        "dt_cm = confusion_matrix(y_test, dtree_y_pred)\n",
        "dt_cm"
      ]
    },
    {
      "cell_type": "code",
      "execution_count": null,
      "id": "9f030603",
      "metadata": {
        "id": "9f030603",
        "outputId": "5b7f9abd-033b-4281-c0b7-1fb3ca8f8ada"
      },
      "outputs": [
        {
          "data": {
            "text/plain": [
              "[Text(0.5, 1.0, 'Decision Tree Accuracy Heatmap')]"
            ]
          },
          "execution_count": 53,
          "metadata": {},
          "output_type": "execute_result"
        },
        {
          "data": {
            "image/png": "[encoded data removed]",
            "text/plain": [
              "<Figure size 432x288 with 2 Axes>"
            ]
          },
          "metadata": {
            "needs_background": "light"
          },
          "output_type": "display_data"
        }
      ],
      "source": [
        "# heatmap\n",
        "x_labels = [1,2,3,4,5]\n",
        "y_labels = [1,2,3,4,5]\n",
        "sns.heatmap(dt_cm, annot=True, xticklabels = x_labels, yticklabels = y_labels).set(title = \"Decision Tree Accuracy Heatmap\")"
      ]
    },
    {
      "cell_type": "markdown",
      "id": "ecf7e186",
      "metadata": {
        "id": "ecf7e186"
      },
      "source": [
        "### Random Forest"
      ]
    },
    {
      "cell_type": "code",
      "execution_count": null,
      "id": "d04fd6d4",
      "metadata": {
        "id": "d04fd6d4"
      },
      "outputs": [],
      "source": [
        "from sklearn.ensemble import RandomForestClassifier"
      ]
    },
    {
      "cell_type": "code",
      "execution_count": null,
      "id": "04371927",
      "metadata": {
        "id": "04371927"
      },
      "outputs": [],
      "source": [
        "# random forest\n",
        "rf = RandomForestClassifier(n_estimators = 5, random_state = 1)\n",
        "rf.fit(X_train, y_train)\n",
        "rf_y_pred = rf.predict(X_test)"
      ]
    },
    {
      "cell_type": "code",
      "execution_count": null,
      "id": "719184fa",
      "metadata": {
        "id": "719184fa",
        "outputId": "ab7010b6-61a9-4344-eb53-40ee85dfb79d"
      },
      "outputs": [
        {
          "name": "stdout",
          "output_type": "stream",
          "text": [
            "0.4307735165753552\n"
          ]
        }
      ],
      "source": [
        "print(accuracy_score(y_test, rf_y_pred))"
      ]
    },
    {
      "cell_type": "code",
      "execution_count": null,
      "id": "038cc1f0",
      "metadata": {
        "id": "038cc1f0",
        "outputId": "48a60398-c9e2-4646-de28-9376ac0fcc0e"
      },
      "outputs": [
        {
          "data": {
            "text/plain": [
              "array([[ 112,   30,   83,  123,   34],\n",
              "       [  77,   36,  108,  360,  139],\n",
              "       [  65,   29,  124,  700,  697],\n",
              "       [  35,    9,  101, 1156, 2469],\n",
              "       [  25,    8,   82,  956, 3211]], dtype=int64)"
            ]
          },
          "execution_count": 57,
          "metadata": {},
          "output_type": "execute_result"
        }
      ],
      "source": [
        "# confusion matrix\n",
        "rf_cm = confusion_matrix(y_test, rf_y_pred)\n",
        "rf_cm"
      ]
    },
    {
      "cell_type": "code",
      "execution_count": null,
      "id": "e1de17bb",
      "metadata": {
        "id": "e1de17bb",
        "outputId": "c2b3997c-fce2-4fd5-8460-701addd322de"
      },
      "outputs": [
        {
          "data": {
            "text/plain": [
              "[Text(0.5, 1.0, 'Random Forest Accuracy Heatmap')]"
            ]
          },
          "execution_count": 58,
          "metadata": {},
          "output_type": "execute_result"
        },
        {
          "data": {
            "image/png": "[encoded data removed]",
            "text/plain": [
              "<Figure size 432x288 with 2 Axes>"
            ]
          },
          "metadata": {
            "needs_background": "light"
          },
          "output_type": "display_data"
        }
      ],
      "source": [
        "#heatmap\n",
        "x_labels = [1,2,3,4,5]\n",
        "y_labels = [1,2,3,4,5]\n",
        "sns.heatmap(rf_cm, annot=True, xticklabels = x_labels, yticklabels = y_labels).set(title = \"Random Forest Accuracy Heatmap\")"
      ]
    },
    {
      "cell_type": "markdown",
      "id": "1a3110b5",
      "metadata": {
        "id": "1a3110b5"
      },
      "source": [
        "### Logistic Regression"
      ]
    },
    {
      "cell_type": "code",
      "execution_count": null,
      "id": "b83da79e",
      "metadata": {
        "id": "b83da79e"
      },
      "outputs": [],
      "source": [
        "# logistic regression\n",
        "from sklearn.linear_model import LogisticRegression\n",
        "log_reg = LogisticRegression()\n",
        "log_reg.fit(X_train, y_train)\n",
        "lr_y_pred =  log_reg.predict(X_test)"
      ]
    },
    {
      "cell_type": "code",
      "execution_count": null,
      "id": "86e4eb26",
      "metadata": {
        "id": "86e4eb26",
        "outputId": "1fdde461-b255-46c1-e78b-99cb01f39f04"
      },
      "outputs": [
        {
          "name": "stdout",
          "output_type": "stream",
          "text": [
            "0.4285448973906584\n"
          ]
        }
      ],
      "source": [
        "print(accuracy_score(y_test, lr_y_pred))"
      ]
    },
    {
      "cell_type": "markdown",
      "id": "7fcfefee",
      "metadata": {
        "id": "7fcfefee"
      },
      "source": [
        "### PCA"
      ]
    },
    {
      "cell_type": "code",
      "execution_count": null,
      "id": "094da121",
      "metadata": {
        "id": "094da121",
        "outputId": "33115232-9aaf-4291-f143-4bc59f9388e3"
      },
      "outputs": [
        {
          "data": {
            "text/plain": [
              "array([[-0.68281378, -0.78001062, -0.86431845,  1.02280471, -1.03601134],\n",
              "       [ 1.79828691,  0.58684362,  1.83443945,  0.16448977, -0.14521993],\n",
              "       [ 1.79828691,  0.58684362,  1.08575178,  0.16448977, -0.14521993],\n",
              "       ...,\n",
              "       [ 0.14421979, -0.0965835 ,  0.51117751,  0.12547546, -0.10472941],\n",
              "       [ 0.3096265 ,  0.92855717,  0.99869507, -0.62229892,  0.67133887],\n",
              "       [-0.51740706, -0.43829706, -0.56832565,  0.20025289, -0.18233623]])"
            ]
          },
          "execution_count": 96,
          "metadata": {},
          "output_type": "execute_result"
        }
      ],
      "source": [
        "from sklearn.preprocessing import StandardScaler\n",
        "target = data_cleaned[\"Star\"]\n",
        "features = data_cleaned.drop(\"Star\", axis = 1)\n",
        "features = features[['positive_count','negative_count', 'total_count',\n",
        "                     'positive_ratio', 'negative_ratio']]\n",
        "features = StandardScaler().fit_transform(features)\n",
        "features"
      ]
    },
    {
      "cell_type": "code",
      "execution_count": null,
      "id": "a2fa569f",
      "metadata": {
        "id": "a2fa569f"
      },
      "outputs": [],
      "source": [
        "from sklearn.preprocessing import StandardScaler\n",
        "sc = StandardScaler()\n",
        "X_train = sc.fit_transform(X_train)\n",
        "X_test = sc.transform(X_test)"
      ]
    },
    {
      "cell_type": "code",
      "execution_count": null,
      "id": "27a6e32d",
      "metadata": {
        "id": "27a6e32d"
      },
      "outputs": [],
      "source": [
        "from sklearn.decomposition import PCA\n",
        "pca = PCA()\n",
        "X_train = pca.fit_transform(X_train)\n",
        "X_test = pca.transform(X_test)"
      ]
    },
    {
      "cell_type": "code",
      "execution_count": null,
      "id": "bbff23a1",
      "metadata": {
        "id": "bbff23a1",
        "outputId": "17c07e30-521c-430e-96bd-5138b5f46653"
      },
      "outputs": [
        {
          "data": {
            "text/plain": [
              "array([0.5, 0.5])"
            ]
          },
          "execution_count": 145,
          "metadata": {},
          "output_type": "execute_result"
        }
      ],
      "source": [
        "explained_variance = pca.explained_variance_ratio_\n",
        "explained_variance"
      ]
    },
    {
      "cell_type": "markdown",
      "source": [
        "## Naive Bayes"
      ],
      "metadata": {
        "id": "YAuLclmcJ6l6"
      },
      "id": "YAuLclmcJ6l6"
    },
    {
      "cell_type": "code",
      "source": [
        "from sklearn.naive_bayes import MultinomialNB\n",
        "from sklearn.metrics import accuracy_score\n",
        "from sklearn.metrics import confusion_matrix\n",
        "import seaborn as sns"
      ],
      "metadata": {
        "id": "B1FMaMhmJ8j8"
      },
      "id": "B1FMaMhmJ8j8",
      "execution_count": null,
      "outputs": []
    },
    {
      "cell_type": "code",
      "source": [
        "model1_nb = MultinomialNB()\n",
        "y_train_pred = model1_nb.fit(X_train,y_train.Sentiment).predict(X_train)\n",
        "\n",
        "y_pred = model1_nb.predict(X_test)\n",
        "\n",
        "# comparing actual response values  with predicted response values\n",
        "from sklearn import metrics\n",
        "print(\"Multinomial Naive Bayes model train accuracy(in %):\", metrics.accuracy_score(y_train, y_train_pred)*100)\n",
        "print(\"Multinomial Naive Bayes model test accuracy(in %):\", metrics.accuracy_score(y_test, y_pred)*100)\n"
      ],
      "metadata": {
        "id": "oGqKpJv1KAgV"
      },
      "id": "oGqKpJv1KAgV",
      "execution_count": null,
      "outputs": []
    },
    {
      "cell_type": "code",
      "source": [
        "# accuracy score\n",
        "print(accuracy_score(y1_test, y_pred))"
      ],
      "metadata": {
        "id": "VvEreG8CKQmA"
      },
      "id": "VvEreG8CKQmA",
      "execution_count": null,
      "outputs": []
    }
  ],
  "metadata": {
    "kernelspec": {
      "display_name": "Python 3",
      "language": "python",
      "name": "python3"
    },
    "language_info": {
      "codemirror_mode": {
        "name": "ipython",
        "version": 3
      },
      "file_extension": ".py",
      "mimetype": "text/x-python",
      "name": "python",
      "nbconvert_exporter": "python",
      "pygments_lexer": "ipython3",
      "version": "3.8.8"
    },
    "colab": {
      "provenance": [],
      "collapsed_sections": [
        "b6c8480c",
        "8fe07bdc",
        "ecf7e186",
        "1a3110b5",
        "7fcfefee"
      ]
    }
  },
  "nbformat": 4,
  "nbformat_minor": 5
}